{
 "cells": [
  {
   "cell_type": "code",
   "execution_count": null,
   "metadata": {},
   "outputs": [],
   "source": [
    "# Hull-White Model Analysis\n",
    "\n",
    "### Introduction\n",
    "- Overview of the Hull-White model.\n",
    "- Applications in bond and option pricing.\n",
    "\n",
    "---\n",
    "\n",
    "### Simulating Short Rates\n",
    "- Simulation of short rates using the Hull-White model.\n",
    "- Visualization of simulated paths.\n",
    "\n",
    "```python\n",
    "from src.hull_white_model import HullWhiteModel\n",
    "from visuals.yield_curve_visualization import plot_short_rate_simulation\n",
    "\n",
    "model = HullWhiteModel(a=0.1, sigma=0.02, r0=0.03)\n",
    "rates = model.simulate_short_rate(T=1.0, dt=0.01, n_paths=100)\n",
    "plot_short_rate_simulation(times=np.linspace(0, 1, 101), rates=rates)\n"
   ]
  }
 ],
 "metadata": {
  "language_info": {
   "name": "python"
  }
 },
 "nbformat": 4,
 "nbformat_minor": 2
}
